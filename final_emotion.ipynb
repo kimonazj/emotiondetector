{
  "cells": [
    {
      "cell_type": "markdown",
      "metadata": {
        "id": "mtvt9ICj-Pzd"
      },
      "source": [
        "# **Homework 5: Convolutional Neural Networks**\n",
        "\n",
        "---"
      ]
    },
    {
      "cell_type": "markdown",
      "metadata": {
        "id": "8T5_FovLIMrj"
      },
      "source": [
        "## **Setup**"
      ]
    },
    {
      "cell_type": "markdown",
      "metadata": {
        "id": "blqZxMe3kSU_"
      },
      "source": [
        "1. Make sure your latest code is pushed to github.com\n",
        "2. Run the cell below\n",
        "  *   When the script asks for the location, click the cursor and press enter\n",
        "  *   Leave the password field blank\n",
        "\n"
      ]
    },
    {
      "cell_type": "code",
      "execution_count": 1,
      "metadata": {
        "id": "I1nTcPUxcz36",
        "colab": {
          "base_uri": "https://localhost:8080/"
        },
        "outputId": "463fcd05-9b7d-40e7-b460-4150859810b4"
      },
      "outputs": [
        {
          "output_type": "stream",
          "name": "stdout",
          "text": [
            "Generating public/private rsa key pair.\n",
            "Enter file in which to save the key (/root/.ssh/id_rsa): \n",
            "Created directory '/root/.ssh'.\n",
            "Enter passphrase (empty for no passphrase): \n",
            "Enter same passphrase again: \n",
            "Your identification has been saved in /root/.ssh/id_rsa.\n",
            "Your public key has been saved in /root/.ssh/id_rsa.pub.\n",
            "The key fingerprint is:\n",
            "SHA256:QcVeNXGLOqRQ6q2wXEGs6WBVX/XLQQT6wG46EcYEVCY root@91db75616de3\n",
            "The key's randomart image is:\n",
            "+---[RSA 2048]----+\n",
            "|      +E+B...+*+.|\n",
            "|     ..oO + o +o.|\n",
            "|    . o+.* * . + |\n",
            "|   o o. =.* + . o|\n",
            "|  . o. oS+ = . o |\n",
            "|    ..+ . + .    |\n",
            "|     o . o       |\n",
            "|          .      |\n",
            "|                 |\n",
            "+----[SHA256]-----+\n",
            "# github.com:22 SSH-2.0-babeld-cd305013\n",
            "\u001b[H\u001b[2JPUBLIC KEY: (for github.com)\n",
            "ssh-rsa AAAAB3NzaC1yc2EAAAADAQABAAABAQDaddhGydzu0aKJyIkLg5pHoVXwfzdF3pF8JbEZO/tB3LNMmvI0s97LONOAKzc+scamKBYZicL2BW5oWBHOdXviifj+dk2rT6mAEjcQO3gXeijnk80DumqvQik1T0/JfHhe50t3iDziWeIG59wkOsPC4CPDurT7zS3uq/qR0QY4W73Y05M+fRFUh4s3ozW0v+NqURt1mYOB91MBb0s/Lz0RpgUVkJytF3J/meIOUfBaIzfolk8qlKrocYUFj0N68rG99m+YkZ4Uor4IlIYUg27D0XcyB3AuFYSILKl4VAqtzqSyUXNi5VRmO9lNl30fVRuH3/YyquIsHu12d2kRs5Rd root@91db75616de3\n"
          ]
        }
      ],
      "source": [
        "!ssh-keygen -t rsa\n",
        "!ssh-keyscan -t rsa github.com >> ~/.ssh/known_hosts\n",
        "!clear\n",
        "!echo \"PUBLIC KEY: (for github.com)\"\n",
        "!cat /root/.ssh/id_rsa.pub"
      ]
    },
    {
      "cell_type": "markdown",
      "metadata": {
        "id": "Y8XJeOF6ihxs"
      },
      "source": [
        "Follow these steps before proceeding:\n",
        "\n",
        "1.   Go to https://github.com/settings/keys and login if necessary\n",
        "2.   Click the green \"New SSH Key\" button\n",
        "3. Choose any title\n",
        "4. Copy the public key from the cell above\n",
        "5. Paste the key into the \"key\" text box and click \"Add SSH key\"\n",
        "3. Replace **[GITHUBUSERNAME]** with your GitHub username\n",
        "\n",
        "\n"
      ]
    },
    {
      "cell_type": "code",
      "execution_count": 2,
      "metadata": {
        "id": "Ia2CRSzTObA3",
        "colab": {
          "base_uri": "https://localhost:8080/"
        },
        "outputId": "afbe3078-75de-4f60-d823-aed6bc331bf0"
      },
      "outputs": [
        {
          "output_type": "stream",
          "name": "stdout",
          "text": [
            "Cloning into 'emotiondetector'...\n",
            "Warning: Permanently added the RSA host key for IP address '140.82.121.4' to the list of known hosts.\n",
            "remote: Enumerating objects: 33724, done.\u001b[K\n",
            "remote: Counting objects: 100% (6617/6617), done.\u001b[K\n",
            "remote: Compressing objects: 100% (6578/6578), done.\u001b[K\n",
            "remote: Total 33724 (delta 78), reused 6576 (delta 37), pack-reused 27107\u001b[K\n",
            "Receiving objects: 100% (33724/33724), 51.66 MiB | 14.76 MiB/s, done.\n",
            "Resolving deltas: 100% (83/83), done.\n",
            "Checking out files: 100% (35352/35352), done.\n",
            "/content/emotiondetector\n"
          ]
        }
      ],
      "source": [
        "!git clone git@github.com:kimonazj/emotiondetector.git\n",
        "%cd emotiondetector\n",
        "# !git pull\n",
        "# %pwd\n",
        "\n",
        "# https://github.com/BrownCSCI1430/homework5_cnns-kendraleek.git\n",
        "# https://github.com/kimonazj/emotiondetector.git"
      ]
    },
    {
      "cell_type": "markdown",
      "metadata": {
        "id": "yb1ead5oTA4j"
      },
      "source": [
        "We can now install the necessary components."
      ]
    },
    {
      "cell_type": "code",
      "execution_count": null,
      "metadata": {
        "id": "85EGz_FZH434"
      },
      "outputs": [],
      "source": [
        "import tensorflow as tf\n",
        "from tensorflow.keras.layers import \\\n",
        "    Conv2D, MaxPool2D, Dropout, Flatten, Dense\n",
        "from tqdm import tqdm\n",
        "import cv2\n",
        "from keras.applications.vgg16 import VGG16"
      ]
    },
    {
      "cell_type": "code",
      "execution_count": null,
      "metadata": {
        "id": "O1jkvao_L68C"
      },
      "outputs": [],
      "source": [
        "# !pip install lime"
      ]
    },
    {
      "cell_type": "markdown",
      "metadata": {
        "id": "mvfht1-w-35H"
      },
      "source": [
        "Next, we can download the weights for the VGG model."
      ]
    },
    {
      "cell_type": "code",
      "execution_count": null,
      "metadata": {
        "id": "k5rkcA4eDD9o"
      },
      "outputs": [],
      "source": [
        "# !wget \"https://cs.brown.edu/courses/csci1430/proj4/vgg16_imagenet.h5\""
      ]
    },
    {
      "cell_type": "markdown",
      "metadata": {
        "id": "neOh6Aqppzoz"
      },
      "source": [
        "## **Change Colab's Runtime**\n",
        "\n",
        "The reason we are using Colab is to speed up training times. By default, Colab doesn't use a hardware accelerator. We will be enabling the GPU accelerator to speed up training\n",
        "\n",
        "\n",
        "\n",
        "1.   Click the runtime tab above\n",
        "2.   Click \"Change runtime type\"\n",
        "3. Select \"GPU\" under \"Hardware accelerator\"\n",
        "4. Click Save\n",
        "\n",
        "## OR (Optional): \n",
        "\n",
        "Right now, if you leave your computer idle for a while, you will lose your session. If you would like a persistent GPU runtime hosted on Google Cloud Platform, follow this tutorial:\n",
        "\n",
        "https://browncsci1430.github.io/webpage/resources/gcp_guide/\n",
        "\n"
      ]
    },
    {
      "cell_type": "markdown",
      "metadata": {
        "id": "2hASqy75_Sk7"
      },
      "source": [
        "## **Running your model:**"
      ]
    },
    {
      "cell_type": "code",
      "execution_count": null,
      "metadata": {
        "id": "RF1J5KDdTMHX",
        "colab": {
          "base_uri": "https://localhost:8080/"
        },
        "outputId": "7d152c75-965c-4f32-86ac-c266adae3cf8"
      },
      "outputs": [
        {
          "output_type": "stream",
          "name": "stdout",
          "text": [
            "/content/emotiondetector/code\n"
          ]
        }
      ],
      "source": [
        "%cd code"
      ]
    },
    {
      "cell_type": "markdown",
      "metadata": {
        "id": "Pj_0i8BiIRQi"
      },
      "source": [
        "**Run Task 1:**"
      ]
    },
    {
      "cell_type": "code",
      "execution_count": null,
      "metadata": {
        "id": "aE8BEyNf_jzL",
        "colab": {
          "base_uri": "https://localhost:8080/"
        },
        "outputId": "b563b945-7d83-4e82-8dc6-336eaf3ae85a"
      },
      "outputs": [
        {
          "output_type": "stream",
          "name": "stdout",
          "text": [
            "100% 7/7 [00:02<00:00,  3.25it/s]\n",
            "28273 images loaded from ../data/train/ directory.\n",
            "Our Training Labels: \n",
            "{0: 'Angry', 1: 'Fear', 2: 'Happy', 3: 'Neutral', 4: 'Sad', 5: 'Suprise'}\n",
            "\n",
            "100% 6/6 [00:00<00:00, 10.94it/s]\n",
            "7067 images loaded from ../data/test/ directory.\n",
            "2022-12-01 01:37:38.519872: W tensorflow/core/common_runtime/gpu/gpu_bfc_allocator.cc:42] Overriding orig_value setting because the TF_FORCE_GPU_ALLOW_GROWTH environment variable is set. Original config value was 0.\n",
            "2022-12-01 01:37:38.891538: W tensorflow/core/framework/cpu_allocator_impl.cc:82] Allocation of 781691904 exceeds 10% of free system memory.\n",
            "Epoch 1/50\n",
            "221/221 [==============================] - 29s 111ms/step - loss: 1.7895 - accuracy: 0.1825\n",
            "Epoch 2/50\n",
            "221/221 [==============================] - 23s 102ms/step - loss: 1.7861 - accuracy: 0.1975\n",
            "Epoch 3/50\n",
            "221/221 [==============================] - 22s 101ms/step - loss: 1.7827 - accuracy: 0.2079\n",
            "Epoch 4/50\n",
            "221/221 [==============================] - 22s 100ms/step - loss: 1.7791 - accuracy: 0.2177\n",
            "Epoch 5/50\n",
            "221/221 [==============================] - 22s 100ms/step - loss: 1.7743 - accuracy: 0.2429\n",
            "Epoch 6/50\n",
            "221/221 [==============================] - 22s 100ms/step - loss: 1.7675 - accuracy: 0.2391\n",
            "Epoch 7/50\n",
            "221/221 [==============================] - 22s 100ms/step - loss: 1.7606 - accuracy: 0.2496\n",
            "Epoch 8/50\n",
            "221/221 [==============================] - 22s 100ms/step - loss: 1.7526 - accuracy: 0.2552\n",
            "Epoch 9/50\n",
            "221/221 [==============================] - 22s 100ms/step - loss: 1.7435 - accuracy: 0.2644\n",
            "Epoch 10/50\n",
            "221/221 [==============================] - 22s 100ms/step - loss: 1.7352 - accuracy: 0.2678\n",
            "Epoch 11/50\n",
            "221/221 [==============================] - 22s 100ms/step - loss: 1.7245 - accuracy: 0.2779\n",
            "Epoch 12/50\n",
            "221/221 [==============================] - 22s 100ms/step - loss: 1.7162 - accuracy: 0.2850\n",
            "Epoch 13/50\n",
            "221/221 [==============================] - 22s 100ms/step - loss: 1.7056 - accuracy: 0.2874\n",
            "Epoch 14/50\n",
            "221/221 [==============================] - 22s 100ms/step - loss: 1.6956 - accuracy: 0.2976\n",
            "Epoch 15/50\n",
            "221/221 [==============================] - 22s 100ms/step - loss: 1.6844 - accuracy: 0.3012\n",
            "Epoch 16/50\n",
            "221/221 [==============================] - 22s 100ms/step - loss: 1.6683 - accuracy: 0.3079\n",
            "Epoch 17/50\n",
            "221/221 [==============================] - 22s 100ms/step - loss: 1.6413 - accuracy: 0.3172\n",
            "Epoch 18/50\n",
            "221/221 [==============================] - 22s 101ms/step - loss: 1.5836 - accuracy: 0.3103\n",
            "Epoch 19/50\n",
            "221/221 [==============================] - 22s 101ms/step - loss: 1.5352 - accuracy: 0.3136\n",
            "Epoch 20/50\n",
            "221/221 [==============================] - 22s 101ms/step - loss: 1.5002 - accuracy: 0.3202\n",
            "Epoch 21/50\n",
            "221/221 [==============================] - 22s 101ms/step - loss: 1.4593 - accuracy: 0.3268\n",
            "Epoch 22/50\n",
            "221/221 [==============================] - 22s 101ms/step - loss: 1.4304 - accuracy: 0.3336\n",
            "Epoch 23/50\n",
            "221/221 [==============================] - 22s 101ms/step - loss: 1.3905 - accuracy: 0.3457\n",
            "Epoch 24/50\n",
            "221/221 [==============================] - 22s 101ms/step - loss: 1.3596 - accuracy: 0.3598\n",
            "Epoch 25/50\n",
            "221/221 [==============================] - 22s 101ms/step - loss: 1.3276 - accuracy: 0.3690\n",
            "Epoch 26/50\n",
            "221/221 [==============================] - 22s 101ms/step - loss: 1.2907 - accuracy: 0.3799\n",
            "Epoch 27/50\n",
            "221/221 [==============================] - 22s 101ms/step - loss: 1.2762 - accuracy: 0.3861\n",
            "Epoch 28/50\n",
            "221/221 [==============================] - 22s 101ms/step - loss: 1.2494 - accuracy: 0.3991\n",
            "Epoch 29/50\n",
            "221/221 [==============================] - 22s 101ms/step - loss: 1.2330 - accuracy: 0.4040\n",
            "Epoch 30/50\n",
            "221/221 [==============================] - 22s 101ms/step - loss: 1.2190 - accuracy: 0.4081\n",
            "Epoch 31/50\n",
            "221/221 [==============================] - 22s 101ms/step - loss: 1.2003 - accuracy: 0.4154\n",
            "Epoch 32/50\n",
            "221/221 [==============================] - 22s 101ms/step - loss: 1.1975 - accuracy: 0.3873\n",
            "Epoch 33/50\n",
            "221/221 [==============================] - 22s 101ms/step - loss: 1.2214 - accuracy: 0.3857\n",
            "Epoch 34/50\n",
            "221/221 [==============================] - 22s 101ms/step - loss: 1.1665 - accuracy: 0.3939\n",
            "Epoch 35/50\n",
            "221/221 [==============================] - 22s 101ms/step - loss: 1.1432 - accuracy: 0.4066\n",
            "Epoch 36/50\n",
            "221/221 [==============================] - 22s 101ms/step - loss: 1.1770 - accuracy: 0.4048\n",
            "Epoch 37/50\n",
            "221/221 [==============================] - 22s 101ms/step - loss: 1.1873 - accuracy: 0.4046\n",
            "Epoch 38/50\n",
            "221/221 [==============================] - 22s 101ms/step - loss: 1.2548 - accuracy: 0.3855\n",
            "Epoch 39/50\n",
            "221/221 [==============================] - 22s 101ms/step - loss: 1.1558 - accuracy: 0.4093\n",
            "Epoch 40/50\n",
            "221/221 [==============================] - 22s 101ms/step - loss: 1.0883 - accuracy: 0.4309\n",
            "Epoch 41/50\n",
            "221/221 [==============================] - 22s 101ms/step - loss: 1.1755 - accuracy: 0.4254\n",
            "Epoch 42/50\n",
            "221/221 [==============================] - 22s 101ms/step - loss: 1.2018 - accuracy: 0.4199\n",
            "Epoch 43/50\n",
            "221/221 [==============================] - 22s 101ms/step - loss: 1.1417 - accuracy: 0.4241\n",
            "Epoch 44/50\n",
            "221/221 [==============================] - 22s 101ms/step - loss: 1.0749 - accuracy: 0.4674\n",
            "Epoch 45/50\n",
            "221/221 [==============================] - 22s 101ms/step - loss: 1.1988 - accuracy: 0.4510\n",
            "Epoch 46/50\n",
            "221/221 [==============================] - 22s 101ms/step - loss: 1.1614 - accuracy: 0.4652\n",
            "Epoch 47/50\n",
            "221/221 [==============================] - 22s 101ms/step - loss: 1.0286 - accuracy: 0.5239\n",
            "Epoch 48/50\n",
            "221/221 [==============================] - 22s 101ms/step - loss: 0.9898 - accuracy: 0.5570\n",
            "Epoch 49/50\n",
            "221/221 [==============================] - 22s 101ms/step - loss: 0.9819 - accuracy: 0.5700\n",
            "Epoch 50/50\n",
            "221/221 [==============================] - 22s 101ms/step - loss: 1.2163 - accuracy: 0.4640\n"
          ]
        }
      ],
      "source": [
        "!python run.py"
      ]
    },
    {
      "cell_type": "markdown",
      "source": [
        "**View Tensorboard Logs**"
      ],
      "metadata": {
        "id": "IBOR9JZM2Tej"
      }
    },
    {
      "cell_type": "code",
      "source": [
        "%load_ext tensorboard\n",
        "%tensorboard --logdir logs"
      ],
      "metadata": {
        "id": "Wt1-9hiB2XZU"
      },
      "execution_count": null,
      "outputs": []
    },
    {
      "cell_type": "markdown",
      "metadata": {
        "id": "AR8qAG-8sb5U"
      },
      "source": [
        "### **Choose a checkpoint**"
      ]
    },
    {
      "cell_type": "markdown",
      "metadata": {
        "id": "GYIbfiKVrzDQ"
      },
      "source": [
        "**View your checkpoints and pick one from the list below**"
      ]
    },
    {
      "cell_type": "code",
      "execution_count": null,
      "metadata": {
        "id": "g24fEX4hrMws"
      },
      "outputs": [],
      "source": [
        "%ls checkpoints/your_model"
      ]
    },
    {
      "cell_type": "markdown",
      "metadata": {
        "id": "71BKRVoAsA0W"
      },
      "source": [
        "**Replace [TIMESTAMP] below with the checkpoint timestamp you've chosen and choose an epoch from the results**"
      ]
    },
    {
      "cell_type": "code",
      "execution_count": null,
      "metadata": {
        "id": "vEhL0F0CsBSg"
      },
      "outputs": [],
      "source": [
        "%ls checkpoints/your_model/[TIMESTAMP]"
      ]
    },
    {
      "cell_type": "markdown",
      "metadata": {
        "id": "loiD5x-xIeo8"
      },
      "source": [
        "To load task 1 from a checkpoint, use this command:\n",
        "\n",
        "\n",
        "*   replace [TIMESTAMP]/[MODEL_FILENAME] with  your timestamp and checkpoint file\n",
        "\n"
      ]
    },
    {
      "cell_type": "code",
      "execution_count": null,
      "metadata": {
        "id": "fUZHoSvUIeTt"
      },
      "outputs": [],
      "source": [
        "!python run.py --task 1 --load-checkpoint checkpoints/your_model/[TIMESTAMP]/[MODEL_FILENAME].h5 --evaluate\n"
      ]
    },
    {
      "cell_type": "markdown",
      "metadata": {
        "id": "cUVgV7UWshPt"
      },
      "source": [
        "### **Run Task 2**"
      ]
    },
    {
      "cell_type": "markdown",
      "metadata": {
        "id": "39IzPs6wvrga"
      },
      "source": [
        "To run Task 2, you first need to find a timestamp and model filename. Follow the steps in the \"Choose a checkpoint\" section of task 1. Once completed, fill in the TIMESTAMP and MODEL_FILENAME fields in the command below."
      ]
    },
    {
      "cell_type": "markdown",
      "metadata": {
        "id": "vUDxmxcHstIM"
      },
      "source": [
        "Next, choose an image your model falsely classified and add it to the end of the command below (replace test/Bedroom/image_0004.jpg with the path to your image)"
      ]
    },
    {
      "cell_type": "code",
      "execution_count": null,
      "metadata": {
        "id": "vk-mNdSXIrnF"
      },
      "outputs": [],
      "source": [
        "!python3 run.py --task 1 --load-checkpoint checkpoints/your_model/<TIMESTAMP>/<MODEL_FILENAME>.h5 --evaluate --lime-image test/Bedroom/image_0004.jpg"
      ]
    },
    {
      "cell_type": "markdown",
      "metadata": {
        "id": "84RFDzsTJBLN"
      },
      "source": [
        "### **Run Task 3:**"
      ]
    },
    {
      "cell_type": "code",
      "execution_count": null,
      "metadata": {
        "id": "y5hLC7I0I92b"
      },
      "outputs": [],
      "source": [
        "!python run.py --task 3"
      ]
    },
    {
      "cell_type": "markdown",
      "metadata": {
        "id": "AGTtds2tJJC9"
      },
      "source": [
        "To load task 3 from a checkpoint, find the checkpoint and model filename using the steps from the \"Choose a checkpoint\" section above. Then, fill in the TIMESTAMP and MODEL_FILENAME fields in the command below."
      ]
    },
    {
      "cell_type": "code",
      "execution_count": null,
      "metadata": {
        "id": "F9zICS7KJIy3"
      },
      "outputs": [],
      "source": [
        "!python run.py --task 3 --load-checkpoint checkpoints/your_model/<TIMESTAMP>/<MODEL_FILENAME>.h5 --evaluate"
      ]
    },
    {
      "cell_type": "markdown",
      "metadata": {
        "id": "iRKTTnP6wbkX"
      },
      "source": [
        "### **OPTIONAL:  Upload checkpoints to github**\n",
        "\n"
      ]
    },
    {
      "cell_type": "code",
      "execution_count": null,
      "metadata": {
        "id": "4IFc_SJ6wjQ8"
      },
      "outputs": [],
      "source": [
        "!git config --global user.email \"colab_bot@brown.edu\"\n",
        "!git config --global user.name \"Colab Bot\"\n",
        "!git add checkpoints/*\n",
        "!git commit -m \"uploading checkpoints from colab!\"\n",
        "!git push"
      ]
    },
    {
      "cell_type": "code",
      "source": [],
      "metadata": {
        "id": "ptZ8jLUJRnx6"
      },
      "execution_count": null,
      "outputs": []
    }
  ],
  "metadata": {
    "accelerator": "GPU",
    "colab": {
      "provenance": []
    },
    "gpuClass": "standard",
    "kernelspec": {
      "display_name": "Python 3",
      "name": "python3"
    },
    "language_info": {
      "name": "python"
    }
  },
  "nbformat": 4,
  "nbformat_minor": 0
}