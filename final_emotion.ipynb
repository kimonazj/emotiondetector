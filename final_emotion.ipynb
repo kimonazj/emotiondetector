{
  "cells": [
    {
      "cell_type": "markdown",
      "metadata": {
        "id": "mtvt9ICj-Pzd"
      },
      "source": [
        "# **Homework 5: Convolutional Neural Networks**\n",
        "\n",
        "---"
      ]
    },
    {
      "cell_type": "markdown",
      "metadata": {
        "id": "8T5_FovLIMrj"
      },
      "source": [
        "## **Setup**"
      ]
    },
    {
      "cell_type": "markdown",
      "metadata": {
        "id": "blqZxMe3kSU_"
      },
      "source": [
        "1. Make sure your latest code is pushed to github.com\n",
        "2. Run the cell below\n",
        "  *   When the script asks for the location, click the cursor and press enter\n",
        "  *   Leave the password field blank\n",
        "\n"
      ]
    },
    {
      "cell_type": "code",
      "execution_count": null,
      "metadata": {
        "id": "I1nTcPUxcz36",
        "colab": {
          "base_uri": "https://localhost:8080/"
        },
        "outputId": "463fcd05-9b7d-40e7-b460-4150859810b4"
      },
      "outputs": [
        {
          "output_type": "stream",
          "name": "stdout",
          "text": [
            "Generating public/private rsa key pair.\n",
            "Enter file in which to save the key (/root/.ssh/id_rsa): \n",
            "Created directory '/root/.ssh'.\n",
            "Enter passphrase (empty for no passphrase): \n",
            "Enter same passphrase again: \n",
            "Your identification has been saved in /root/.ssh/id_rsa.\n",
            "Your public key has been saved in /root/.ssh/id_rsa.pub.\n",
            "The key fingerprint is:\n",
            "SHA256:QcVeNXGLOqRQ6q2wXEGs6WBVX/XLQQT6wG46EcYEVCY root@91db75616de3\n",
            "The key's randomart image is:\n",
            "+---[RSA 2048]----+\n",
            "|      +E+B...+*+.|\n",
            "|     ..oO + o +o.|\n",
            "|    . o+.* * . + |\n",
            "|   o o. =.* + . o|\n",
            "|  . o. oS+ = . o |\n",
            "|    ..+ . + .    |\n",
            "|     o . o       |\n",
            "|          .      |\n",
            "|                 |\n",
            "+----[SHA256]-----+\n",
            "# github.com:22 SSH-2.0-babeld-cd305013\n",
            "\u001b[H\u001b[2JPUBLIC KEY: (for github.com)\n",
            "ssh-rsa AAAAB3NzaC1yc2EAAAADAQABAAABAQDaddhGydzu0aKJyIkLg5pHoVXwfzdF3pF8JbEZO/tB3LNMmvI0s97LONOAKzc+scamKBYZicL2BW5oWBHOdXviifj+dk2rT6mAEjcQO3gXeijnk80DumqvQik1T0/JfHhe50t3iDziWeIG59wkOsPC4CPDurT7zS3uq/qR0QY4W73Y05M+fRFUh4s3ozW0v+NqURt1mYOB91MBb0s/Lz0RpgUVkJytF3J/meIOUfBaIzfolk8qlKrocYUFj0N68rG99m+YkZ4Uor4IlIYUg27D0XcyB3AuFYSILKl4VAqtzqSyUXNi5VRmO9lNl30fVRuH3/YyquIsHu12d2kRs5Rd root@91db75616de3\n"
          ]
        }
      ],
      "source": [
        "!ssh-keygen -t rsa\n",
        "!ssh-keyscan -t rsa github.com >> ~/.ssh/known_hosts\n",
        "!clear\n",
        "!echo \"PUBLIC KEY: (for github.com)\"\n",
        "!cat /root/.ssh/id_rsa.pub"
      ]
    },
    {
      "cell_type": "markdown",
      "metadata": {
        "id": "Y8XJeOF6ihxs"
      },
      "source": [
        "Follow these steps before proceeding:\n",
        "\n",
        "1.   Go to https://github.com/settings/keys and login if necessary\n",
        "2.   Click the green \"New SSH Key\" button\n",
        "3. Choose any title\n",
        "4. Copy the public key from the cell above\n",
        "5. Paste the key into the \"key\" text box and click \"Add SSH key\"\n",
        "3. Replace **[GITHUBUSERNAME]** with your GitHub username\n",
        "\n",
        "\n"
      ]
    },
    {
      "cell_type": "code",
      "execution_count": null,
      "metadata": {
        "id": "Ia2CRSzTObA3",
        "colab": {
          "base_uri": "https://localhost:8080/",
          "height": 214
        },
        "outputId": "c9e94ada-f47c-4be7-d08b-e8e4033b3595"
      },
      "outputs": [
        {
          "output_type": "stream",
          "name": "stdout",
          "text": [
            "remote: Enumerating objects: 4, done.\u001b[K\n",
            "remote: Counting objects:  25% (1/4)\u001b[K\rremote: Counting objects:  50% (2/4)\u001b[K\rremote: Counting objects:  75% (3/4)\u001b[K\rremote: Counting objects: 100% (4/4)\u001b[K\rremote: Counting objects: 100% (4/4), done.\u001b[K\n",
            "remote: Total 4 (delta 3), reused 4 (delta 3), pack-reused 0\u001b[K\n",
            "Unpacking objects:  25% (1/4)   \rUnpacking objects:  50% (2/4)   \rUnpacking objects:  75% (3/4)   \rUnpacking objects: 100% (4/4)   \rUnpacking objects: 100% (4/4), done.\n",
            "From github.com:kimonazj/emotiondetector\n",
            "   14c34970..40a59576  main       -> origin/main\n",
            "Updating 14c34970..40a59576\n",
            "Fast-forward\n",
            " code/run.py | 13 \u001b[32m++++++++++\u001b[m\u001b[31m---\u001b[m\n",
            " 1 file changed, 10 insertions(+), 3 deletions(-)\n"
          ]
        },
        {
          "output_type": "execute_result",
          "data": {
            "text/plain": [
              "'/content/emotiondetector/code'"
            ],
            "application/vnd.google.colaboratory.intrinsic+json": {
              "type": "string"
            }
          },
          "metadata": {},
          "execution_count": 51
        }
      ],
      "source": [
        "# !git clone git@github.com:kimonazj/emotiondetector.git\n",
        "# %cd emotiondetector\n",
        "!git pull\n",
        "%pwd\n",
        "\n",
        "# https://github.com/BrownCSCI1430/homework5_cnns-kendraleek.git\n",
        "# https://github.com/kimonazj/emotiondetector.git"
      ]
    },
    {
      "cell_type": "markdown",
      "metadata": {
        "id": "yb1ead5oTA4j"
      },
      "source": [
        "We can now install the necessary components."
      ]
    },
    {
      "cell_type": "code",
      "execution_count": null,
      "metadata": {
        "id": "85EGz_FZH434"
      },
      "outputs": [],
      "source": [
        "import tensorflow as tf\n",
        "from tensorflow.keras.layers import \\\n",
        "    Conv2D, MaxPool2D, Dropout, Flatten, Dense\n",
        "from tqdm import tqdm\n",
        "import cv2\n",
        "from keras.applications.vgg16 import VGG16\n",
        "from keras.preprocessing.image import ImageDataGenerator\n",
        "import pandas as pd\n",
        "from matplotlib import pyplot as plt\n",
        "import matplotlib.pyplot as plt"
      ]
    },
    {
      "cell_type": "markdown",
      "metadata": {
        "id": "2hASqy75_Sk7"
      },
      "source": [
        "## **Running your model:**"
      ]
    },
    {
      "cell_type": "code",
      "execution_count": null,
      "metadata": {
        "id": "RF1J5KDdTMHX",
        "colab": {
          "base_uri": "https://localhost:8080/"
        },
        "outputId": "3310c5ae-252b-4c95-9075-81708e8509bf"
      },
      "outputs": [
        {
          "output_type": "stream",
          "name": "stdout",
          "text": [
            "/content/emotiondetector/code\n"
          ]
        }
      ],
      "source": [
        "%cd code"
      ]
    },
    {
      "cell_type": "markdown",
      "metadata": {
        "id": "Pj_0i8BiIRQi"
      },
      "source": [
        "**Run Task 1:**"
      ]
    },
    {
      "cell_type": "code",
      "execution_count": null,
      "metadata": {
        "id": "aE8BEyNf_jzL"
      },
      "outputs": [],
      "source": [
        "!python run.py"
      ]
    },
    {
      "cell_type": "markdown",
      "source": [
        "Validating on test set"
      ],
      "metadata": {
        "id": "9wHbCdumCRji"
      }
    },
    {
      "cell_type": "code",
      "source": [
        "!python run.py --evaluate"
      ],
      "metadata": {
        "id": "FVtrAW4WCXFR"
      },
      "execution_count": null,
      "outputs": []
    },
    {
      "cell_type": "markdown",
      "source": [
        "making prediction on our testing data"
      ],
      "metadata": {
        "id": "rN5MjFUXJggw"
      }
    },
    {
      "cell_type": "code",
      "source": [
        "!python run.py --makePredictions"
      ],
      "metadata": {
        "id": "atSCIvK3Jj8K"
      },
      "execution_count": null,
      "outputs": []
    },
    {
      "cell_type": "markdown",
      "source": [
        "**View Tensorboard Logs**"
      ],
      "metadata": {
        "id": "IBOR9JZM2Tej"
      }
    },
    {
      "cell_type": "markdown",
      "metadata": {
        "id": "cUVgV7UWshPt"
      },
      "source": [
        "### **Run Task 2**"
      ]
    }
  ],
  "metadata": {
    "accelerator": "GPU",
    "colab": {
      "provenance": []
    },
    "gpuClass": "standard",
    "kernelspec": {
      "display_name": "Python 3",
      "name": "python3"
    },
    "language_info": {
      "name": "python"
    }
  },
  "nbformat": 4,
  "nbformat_minor": 0
}